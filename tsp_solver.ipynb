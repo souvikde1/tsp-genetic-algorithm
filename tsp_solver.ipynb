{
  "nbformat": 4,
  "nbformat_minor": 0,
  "metadata": {
    "colab": {
      "provenance": []
    },
    "kernelspec": {
      "name": "python3",
      "display_name": "Python 3"
    },
    "language_info": {
      "name": "python"
    }
  },
  "cells": [
    {
      "cell_type": "code",
      "source": [
        "def random_combinaation(data):\n",
        "  random_comb = random.sample(data,len(data))\n",
        "  return random_comb\n",
        "\n"
      ],
      "metadata": {
        "id": "xBH2Uc5UljpX"
      },
      "execution_count": null,
      "outputs": []
    },
    {
      "cell_type": "code",
      "source": [
        "def fitness(data):\n",
        "    distance = 0\n",
        "    for i in range(len(data) - 1):\n",
        "        distance += (((x[data[i]-1] - x[data[i+1]-1])**2) + ((y[data[i]-1] - y[data[i+1]-1])**2)) ** 0.5\n",
        "    distance += (((x[data[0]-1] - x[data[-1]-1])**2) + ((y[data[0]-1] - y[data[-1]-1])**2)) ** 0.5\n",
        "    return distance"
      ],
      "metadata": {
        "id": "g5eI1revonCf"
      },
      "execution_count": null,
      "outputs": []
    },
    {
      "cell_type": "code",
      "source": [
        "import random\n",
        "\n",
        "def selection(data, selection_size, population):\n",
        "    selections = []\n",
        "\n",
        "    while len(selections) < selection_size:\n",
        "        num1, num2 = random.sample(range(len(data)), 2)  # Fix indexing issue\n",
        "\n",
        "        # Select the better one based on fitness\n",
        "        select = num1 if data[num1] < data[num2] else num2\n",
        "\n",
        "        selections.append(population[select])\n",
        "\n",
        "    return selections\n",
        "\n"
      ],
      "metadata": {
        "id": "2RN216RQGkLm"
      },
      "execution_count": null,
      "outputs": []
    },
    {
      "cell_type": "code",
      "source": [
        "def pmx_crossover(parent1, parent2):\n",
        "    size = len(parent1)\n",
        "\n",
        "    p1, p2 = sorted(random.sample(range(size), 2))\n",
        "\n",
        "    # Step 2: Copy the segment from Parent 1 to Offspring 1\n",
        "    child1 = [-1] * size\n",
        "    child2 = [-1] * size\n",
        "    child1[p1:p2] = parent1[p1:p2]\n",
        "    child2[p1:p2] = parent2[p1:p2]\n",
        "\n",
        "    # Step 3: Create mappings\n",
        "    mapping1 = {parent1[i]: parent2[i] for i in range(p1, p2)}\n",
        "    mapping2 = {parent2[i]: parent1[i] for i in range(p1, p2)}\n",
        "\n",
        "    def fill_child(child, parent, mapping):\n",
        "        for i in range(size):\n",
        "            if child[i] == -1:  # If not filled\n",
        "                value = parent[i]\n",
        "                while value in mapping:\n",
        "                    value = mapping[value]\n",
        "                child[i] = value\n",
        "\n",
        "    fill_child(child1, parent2, mapping1)\n",
        "    fill_child(child2, parent1, mapping2)\n",
        "\n",
        "    return child1, child2\n",
        "\n",
        "import random\n",
        "\n",
        "def crossover(population, crossover_percent):\n",
        "    cross_population = []\n",
        "    l = len(population)\n",
        "\n",
        "    while len(cross_population) < l and len(population) >= 2:\n",
        "\n",
        "        parent1, parent2 = random.sample(population, 2)\n",
        "\n",
        "        cross = random.randint(0, 100)\n",
        "\n",
        "        if cross < crossover_percent:\n",
        "            child1, child2 = pmx_crossover(parent1, parent2)\n",
        "            cross_population.append(child1)\n",
        "            cross_population.append(child2)\n",
        "        else:\n",
        "            cross_population.append(parent1)\n",
        "            cross_population.append(parent2)\n",
        "\n",
        "        population.remove(parent1)\n",
        "        population.remove(parent2)\n",
        "\n",
        "    return cross_population + population\n"
      ],
      "metadata": {
        "id": "x4DOlWMaHGjS"
      },
      "execution_count": null,
      "outputs": []
    },
    {
      "cell_type": "code",
      "source": [
        "def mutation(population, mutation_percent):\n",
        "  mutated_population = []\n",
        "  l = len(population)\n",
        "\n",
        "  while(len(mutated_population) < l):\n",
        "    chromosome = random.randint(0,len(population)-1)\n",
        "    if(random.randint(0,100) < mutation_percent):\n",
        "      p1 , p2 = random.sample(range(len(population[0])),2)\n",
        "\n",
        "      temp = population[chromosome][p1]\n",
        "      population[chromosome][p1] = population[chromosome][p2]\n",
        "      population[chromosome][p2] = temp\n",
        "      mutated_population.append(population[chromosome])\n",
        "    else:\n",
        "      mutated_population.append(population[chromosome])\n",
        "    population.remove(population[chromosome])\n",
        "  return mutated_population"
      ],
      "metadata": {
        "id": "GvQ1YcTGHDpd"
      },
      "execution_count": null,
      "outputs": []
    },
    {
      "cell_type": "code",
      "source": [
        "def genetic_algorithm(node,x,y,population_size,max_iteration,selection_size,crossvoer_percent,mutation_percent):\n",
        "  node = node\n",
        "  x = x\n",
        "  y = y\n",
        "\n",
        "  best_solution_fitness = []\n",
        "  best_chromosome = []\n",
        "\n",
        "  initial_population = []\n",
        "  for i in range(population_size):   #this is creating a initial population\n",
        "    initial_population.append(random_combinaation(node))\n",
        "\n",
        "  for i in range(max_iteration):\n",
        "    fitness_score = []\n",
        "    for j in initial_population:\n",
        "      fitness_score.append(fitness(j))\n",
        "\n",
        "    selections  = selection(fitness_score,selection_size,initial_population)\n",
        "\n",
        "    cross_population = crossover(selections, crossvoer_percent)\n",
        "\n",
        "    mutated_population = mutation(cross_population,mutation_percent)\n",
        "\n",
        "    initial_population =  mutated_population\n",
        "\n",
        "    best =float('inf')\n",
        "    chromosome = []\n",
        "    for l in initial_population:\n",
        "      if fitness(l) < best:\n",
        "        best = fitness(l)\n",
        "        chromosome = l\n",
        "\n",
        "    best_solution_fitness.append(best)\n",
        "    best_chromosome.append(chromosome)\n",
        "  return best_solution_fitness , best_chromosome\n",
        "\n"
      ],
      "metadata": {
        "id": "F0KgFIiVHs8R"
      },
      "execution_count": null,
      "outputs": []
    },
    {
      "cell_type": "code",
      "source": [
        "import pandas as pd\n",
        "import random\n",
        "\n",
        "# Read the text file\n",
        "with open(\"/content/tsp1.txt\", \"r\") as file:\n",
        "    lines = file.readlines()\n",
        "\n",
        "# Process the data\n",
        "data = []\n",
        "for line in lines[1:]:  # Skip the header\n",
        "    parts = line.split()\n",
        "    if len(parts) == 3:\n",
        "        data.append([int(parts[0]), float(parts[1]), float(parts[2])])\n",
        "\n",
        "# Convert to DataFrame\n",
        "df = pd.DataFrame(data, columns=[\"node\", \"x\", \"y\"])\n",
        "\n",
        "# Save to CSV\n",
        "df.to_csv(\"nodes.csv\", index=False)\n",
        "\n",
        "\n",
        "node = df[\"node\"].tolist()\n",
        "x = df[\"x\"].tolist()\n",
        "y = df[\"y\"].tolist()\n",
        "\n",
        "population_size = 500\n",
        "max_iteration = 300\n",
        "selection_size = 100\n",
        "crossvoer_percent = 80\n",
        "mutation_percent = 20\n",
        "\n",
        "best_solutions,best_choromosome = genetic_algorithm(node,x,y,population_size,max_iteration,selection_size,crossvoer_percent,mutation_percent)\n",
        "\n"
      ],
      "metadata": {
        "id": "S6-tTvw1HLfV"
      },
      "execution_count": null,
      "outputs": []
    },
    {
      "cell_type": "code",
      "source": [
        "import matplotlib.pyplot as plt\n",
        "\n",
        "plt.figure(figsize=(10, 5))  # Adjust width (12) and height (5)\n",
        "plt.plot(best_solutions, linestyle='-', color='b', label=\"chromosome fitness\")\n",
        "\n",
        "# Add labels and title\n",
        "plt.xlabel(\"Cost\")\n",
        "plt.ylabel(\"Iteration\")\n",
        "plt.title(\"Cost Over Time\")\n",
        "plt.legend()\n",
        "\n",
        "# Show the plot\n",
        "plt.show()\n",
        "\n",
        "print(best_solutions[-1])\n",
        "print(best_choromosome[-1])"
      ],
      "metadata": {
        "colab": {
          "base_uri": "https://localhost:8080/",
          "height": 543
        },
        "id": "4Sgd8u0RlwZC",
        "outputId": "ef03ee90-a4a9-4623-9b2b-a386f203f532"
      },
      "execution_count": null,
      "outputs": [
        {
          "output_type": "display_data",
          "data": {
            "text/plain": [
              "<Figure size 1000x500 with 1 Axes>"
            ],
            "image/png": "[encoded data removed]"
          },
          "metadata": {}
        },
        {
          "output_type": "stream",
          "name": "stdout",
          "text": [
            "577.7677385824941\n",
            "[46, 10, 49, 38, 27, 48, 31, 28, 22, 3, 36, 35, 20, 29, 21, 50, 9, 5, 42, 40, 44, 37, 17, 47, 6, 23, 7, 43, 24, 14, 18, 4, 19, 41, 13, 25, 26, 8, 1, 32, 11, 2, 16, 34, 30, 39, 33, 45, 15, 12, 51]\n"
          ]
        }
      ]
    }
  ]
}